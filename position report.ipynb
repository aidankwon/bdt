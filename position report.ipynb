{
 "cells": [
  {
   "cell_type": "code",
   "execution_count": 1,
   "id": "a29e1961-5645-4d46-8a7a-b983c1ca6624",
   "metadata": {
    "editable": true,
    "slideshow": {
     "slide_type": ""
    },
    "tags": []
   },
   "outputs": [],
   "source": [
    "import pandas as pd\n",
    "import datetime as dt\n",
    "from msci.bdt import create_unique_export_set_name\n",
    "from msci.bdt.context.ServiceClient import ServiceClient\n",
    "from msci.bdt.get_positions_report import get_positions_report\n",
    "\n",
    "url = 'https://www.barraone.com'\n",
    "user_id = 'ykwon'\n",
    "password = 'passive23456'\n",
    "client_id = 'wu8cegzksh'"
   ]
  },
  {
   "cell_type": "code",
   "execution_count": 2,
   "id": "e40eed3e-c52e-4571-bc62-ef65662dd81f",
   "metadata": {},
   "outputs": [],
   "source": [
    "model = 'KRE3L'\n",
    "port_name= 'Passive_Total'\n",
    "port_owner = 'ykwon'\n",
    "date1 = '2024-07-15'"
   ]
  },
  {
   "cell_type": "code",
   "execution_count": 17,
   "id": "4356fd5f-87d8-4fce-bbad-22113a8976ba",
   "metadata": {},
   "outputs": [],
   "source": [
    "from msci.bdt.context.InteractiveClient import InteractiveClient\n",
    "\n",
    "client = InteractiveClient(url, user_id, password, client_id)\n",
    "#stored_analytics = client.get_available_stored_analytics()"
   ]
  },
  {
   "cell_type": "code",
   "execution_count": 21,
   "id": "e7ac6a62-4f5a-4002-9310-47862a55e2cb",
   "metadata": {},
   "outputs": [],
   "source": [
    "cols = {'Name': ['Asset ID', 'Asset Name', 'Holdings', 'Local Price'], 'Owner': ['System','System','System','System']}\n",
    "csettings=client.factory.create('CustomizeReportSetting')\n",
    "csettings._InclBenchmarkNotHeld = True\n",
    "csettings._LookThruComposites = True\n",
    "pos = get_positions_report(client, model, port_name, date1, cols, portfolio_owner=port_owner, customize_settings=csettings)"
   ]
  },
  {
   "cell_type": "code",
   "execution_count": null,
   "id": "a63d6536-73a0-40a1-85f7-fbd5a166e9c7",
   "metadata": {},
   "outputs": [],
   "source": [
    "df = pd.DataFrame(pos)\n",
    "\n",
    "df['Holdings'] = df['Holdings'].map(lambda x: round(float(x)))\n",
    "df['Local Price'] = df['Local Price'].map(lambda x: round(float(x)))"
   ]
  },
  {
   "cell_type": "code",
   "execution_count": 25,
   "id": "ae4dcf98-2882-44aa-95d5-a89b818619d8",
   "metadata": {},
   "outputs": [
    {
     "data": {
      "text/html": [
       "<div>\n",
       "<style scoped>\n",
       "    .dataframe tbody tr th:only-of-type {\n",
       "        vertical-align: middle;\n",
       "    }\n",
       "\n",
       "    .dataframe tbody tr th {\n",
       "        vertical-align: top;\n",
       "    }\n",
       "\n",
       "    .dataframe thead th {\n",
       "        text-align: right;\n",
       "    }\n",
       "</style>\n",
       "<table border=\"1\" class=\"dataframe\">\n",
       "  <thead>\n",
       "    <tr style=\"text-align: right;\">\n",
       "      <th></th>\n",
       "      <th>Asset ID</th>\n",
       "      <th>Asset Name</th>\n",
       "      <th>Holdings</th>\n",
       "      <th>Local Price</th>\n",
       "    </tr>\n",
       "  </thead>\n",
       "  <tbody>\n",
       "    <tr>\n",
       "      <th>0</th>\n",
       "      <td>KR7271560005</td>\n",
       "      <td>ORION CORP NEW</td>\n",
       "      <td>897513</td>\n",
       "      <td>91900</td>\n",
       "    </tr>\n",
       "    <tr>\n",
       "      <th>1</th>\n",
       "      <td>KR7000070003</td>\n",
       "      <td>SAMYANG HOLDINGS CORP</td>\n",
       "      <td>210141</td>\n",
       "      <td>68600</td>\n",
       "    </tr>\n",
       "    <tr>\n",
       "      <th>2</th>\n",
       "      <td>KR7285130001</td>\n",
       "      <td>SK CHEMICALS (NEW)</td>\n",
       "      <td>363122</td>\n",
       "      <td>49000</td>\n",
       "    </tr>\n",
       "    <tr>\n",
       "      <th>3</th>\n",
       "      <td>KR7011070000</td>\n",
       "      <td>LG INNOTEK</td>\n",
       "      <td>541373</td>\n",
       "      <td>294500</td>\n",
       "    </tr>\n",
       "    <tr>\n",
       "      <th>4</th>\n",
       "      <td>KR7281820001</td>\n",
       "      <td>KC TECH CO NEW</td>\n",
       "      <td>433525</td>\n",
       "      <td>52000</td>\n",
       "    </tr>\n",
       "    <tr>\n",
       "      <th>...</th>\n",
       "      <td>...</td>\n",
       "      <td>...</td>\n",
       "      <td>...</td>\n",
       "      <td>...</td>\n",
       "    </tr>\n",
       "    <tr>\n",
       "      <th>268</th>\n",
       "      <td>KR7034120006</td>\n",
       "      <td>SEOUL BROADCASTING SYSTEM</td>\n",
       "      <td>83413</td>\n",
       "      <td>17250</td>\n",
       "    </tr>\n",
       "    <tr>\n",
       "      <th>269</th>\n",
       "      <td>KR7403550007</td>\n",
       "      <td>SOCAR INC</td>\n",
       "      <td>4267</td>\n",
       "      <td>19850</td>\n",
       "    </tr>\n",
       "    <tr>\n",
       "      <th>270</th>\n",
       "      <td>KR7383800000</td>\n",
       "      <td>LX HOLDINGS CORP</td>\n",
       "      <td>1470192</td>\n",
       "      <td>6940</td>\n",
       "    </tr>\n",
       "    <tr>\n",
       "      <th>271</th>\n",
       "      <td>CP_10022_KRP487570002_20240715</td>\n",
       "      <td>HS HYOSUNG(Spin-off)</td>\n",
       "      <td>120632604</td>\n",
       "      <td>1</td>\n",
       "    </tr>\n",
       "    <tr>\n",
       "      <th>272</th>\n",
       "      <td>10022_KRU086280003</td>\n",
       "      <td>HYUNDAIGLOVIS(Bonus)</td>\n",
       "      <td>21666</td>\n",
       "      <td>127600</td>\n",
       "    </tr>\n",
       "  </tbody>\n",
       "</table>\n",
       "<p>273 rows × 4 columns</p>\n",
       "</div>"
      ],
      "text/plain": [
       "                           Asset ID                 Asset Name   Holdings  \\\n",
       "0                      KR7271560005             ORION CORP NEW     897513   \n",
       "1                      KR7000070003      SAMYANG HOLDINGS CORP     210141   \n",
       "2                      KR7285130001         SK CHEMICALS (NEW)     363122   \n",
       "3                      KR7011070000                 LG INNOTEK     541373   \n",
       "4                      KR7281820001             KC TECH CO NEW     433525   \n",
       "..                              ...                        ...        ...   \n",
       "268                    KR7034120006  SEOUL BROADCASTING SYSTEM      83413   \n",
       "269                    KR7403550007                  SOCAR INC       4267   \n",
       "270                    KR7383800000           LX HOLDINGS CORP    1470192   \n",
       "271  CP_10022_KRP487570002_20240715       HS HYOSUNG(Spin-off)  120632604   \n",
       "272              10022_KRU086280003       HYUNDAIGLOVIS(Bonus)      21666   \n",
       "\n",
       "     Local Price  \n",
       "0          91900  \n",
       "1          68600  \n",
       "2          49000  \n",
       "3         294500  \n",
       "4          52000  \n",
       "..           ...  \n",
       "268        17250  \n",
       "269        19850  \n",
       "270         6940  \n",
       "271            1  \n",
       "272       127600  \n",
       "\n",
       "[273 rows x 4 columns]"
      ]
     },
     "execution_count": 25,
     "metadata": {},
     "output_type": "execute_result"
    }
   ],
   "source": [
    "df"
   ]
  },
  {
   "cell_type": "code",
   "execution_count": 26,
   "id": "bcb9f50c-79b7-41ea-bbb8-c51a7d9d394d",
   "metadata": {},
   "outputs": [
    {
     "data": {
      "text/plain": [
       "2044.620406779661"
      ]
     },
     "execution_count": 26,
     "metadata": {},
     "output_type": "execute_result"
    }
   ],
   "source": [
    "120632604/59000"
   ]
  },
  {
   "cell_type": "code",
   "execution_count": null,
   "id": "df21bac4-89a7-46d8-b1ab-11d62479c786",
   "metadata": {},
   "outputs": [],
   "source": []
  }
 ],
 "metadata": {
  "kernelspec": {
   "display_name": "Python 3 (ipykernel)",
   "language": "python",
   "name": "python3"
  },
  "language_info": {
   "codemirror_mode": {
    "name": "ipython",
    "version": 3
   },
   "file_extension": ".py",
   "mimetype": "text/x-python",
   "name": "python",
   "nbconvert_exporter": "python",
   "pygments_lexer": "ipython3",
   "version": "3.12.3"
  }
 },
 "nbformat": 4,
 "nbformat_minor": 5
}
