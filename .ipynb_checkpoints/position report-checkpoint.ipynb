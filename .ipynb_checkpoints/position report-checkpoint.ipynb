{
 "cells": [
  {
   "cell_type": "code",
   "execution_count": 1,
   "id": "a29e1961-5645-4d46-8a7a-b983c1ca6624",
   "metadata": {},
   "outputs": [],
   "source": [
    "import pandas as pd\n",
    "import datetime as dt\n",
    "from msci.bdt import create_unique_export_set_name\n",
    "from msci.bdt.context.ServiceClient import ServiceClient\n",
    "from msci.bdt.get_positions_report import get_positions_report\n",
    "\n",
    "url = 'https://www.barraone.com'\n",
    "user_id = 'ykwon'\n",
    "password = 'passive23456'\n",
    "client_id = 'wu8cegzksh'"
   ]
  },
  {
   "cell_type": "code",
   "execution_count": 2,
   "id": "e40eed3e-c52e-4571-bc62-ef65662dd81f",
   "metadata": {},
   "outputs": [],
   "source": [
    "model = 'KRE3L'\n",
    "port_name= 'Passive_Total'\n",
    "port_owner = 'ykwon'\n",
    "date1 = '2024-07-15'"
   ]
  },
  {
   "cell_type": "code",
   "execution_count": 3,
   "id": "4356fd5f-87d8-4fce-bbad-22113a8976ba",
   "metadata": {},
   "outputs": [],
   "source": [
    "from msci.bdt.context.InteractiveClient import InteractiveClient\n",
    "\n",
    "client = InteractiveClient(url, user_id, password, client_id)\n",
    "#stored_analytics = client.get_available_stored_analytics()"
   ]
  },
  {
   "cell_type": "code",
   "execution_count": 5,
   "id": "e7ac6a62-4f5a-4002-9310-47862a55e2cb",
   "metadata": {},
   "outputs": [],
   "source": [
    "cols = {'Name': ['Asset ID', 'Asset Name', 'Holdings'], 'Owner': ['System','System','System']}\n",
    "csettings=client.factory.create('CustomizeReportSetting')\n",
    "csettings._InclBenchmarkNotHeld = True\n",
    "csettings._LookThruComposites = True\n",
    "pos = get_positions_report(client, model, port_name, date1, cols, portfolio_owner=port_owner, customize_settings=csettings)"
   ]
  },
  {
   "cell_type": "code",
   "execution_count": 8,
   "id": "106ef49f-0234-4fe7-a77b-c7b55a1adb7f",
   "metadata": {},
   "outputs": [],
   "source": [
    "df = pd.DataFrame(pos)"
   ]
  },
  {
   "cell_type": "code",
   "execution_count": null,
   "id": "344be9b9-d62c-4118-ba28-6f83343a4e6d",
   "metadata": {},
   "outputs": [],
   "source": []
  }
 ],
 "metadata": {
  "kernelspec": {
   "display_name": "Python 3 (ipykernel)",
   "language": "python",
   "name": "python3"
  },
  "language_info": {
   "codemirror_mode": {
    "name": "ipython",
    "version": 3
   },
   "file_extension": ".py",
   "mimetype": "text/x-python",
   "name": "python",
   "nbconvert_exporter": "python",
   "pygments_lexer": "ipython3",
   "version": "3.12.3"
  }
 },
 "nbformat": 4,
 "nbformat_minor": 5
}
