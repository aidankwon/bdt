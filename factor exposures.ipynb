{
 "cells": [
  {
   "cell_type": "markdown",
   "id": "692c8511-3cc3-4cc3-ad54-da1c0f001084",
   "metadata": {},
   "source": [
    "## Setup"
   ]
  },
  {
   "cell_type": "code",
   "execution_count": 1,
   "id": "effcb8e2-f79c-490a-b13c-6795c44a6fcf",
   "metadata": {},
   "outputs": [],
   "source": [
    "import pandas as pd\n",
    "import datetime as dt\n",
    "from msci.bdt import create_unique_export_set_name\n",
    "from msci.bdt.context.ServiceClient import ServiceClient\n",
    "\n",
    "url = 'https://www.barraone.com'\n",
    "user_id = 'ykwon'\n",
    "password = 'passive23456'\n",
    "client_id = 'wu8cegzksh'"
   ]
  },
  {
   "cell_type": "markdown",
   "id": "df0a5840-e53d-4e3f-bf66-c6ee0464f376",
   "metadata": {},
   "source": [
    "## Report setting"
   ]
  },
  {
   "cell_type": "code",
   "execution_count": 2,
   "id": "8c1659fe-8f34-4946-a87a-e5d0bb599a2d",
   "metadata": {},
   "outputs": [],
   "source": [
    "model = 'KRE3L'\n",
    "port_name= '10003'\n",
    "port_owner = 'ykwon'\n",
    "date1 = '2024-07-16'"
   ]
  },
  {
   "cell_type": "markdown",
   "id": "1413c7db-576b-46d8-ad25-f58325891787",
   "metadata": {},
   "source": [
    "## Prepare the database for storing exposures"
   ]
  },
  {
   "cell_type": "code",
   "execution_count": 3,
   "id": "e84ef4e8-ff0f-489f-b38d-737fc8f6f5ec",
   "metadata": {},
   "outputs": [],
   "source": [
    "import sqlite3\n",
    "\n",
    "conn = sqlite3.connect(\"exposures.db\")\n",
    "cur = conn.cursor()"
   ]
  },
  {
   "cell_type": "code",
   "execution_count": null,
   "id": "341e1189-abac-46d6-a68f-41b73e8f42a7",
   "metadata": {},
   "outputs": [],
   "source": [
    "cur.execute(\"\"\"CREATE TABLE IF NOT EXISTS exposures (\n",
    "  Date Date,\n",
    "  AssetID text,\n",
    "  AssetIDType text,\n",
    "  Factor text,\n",
    "  Exposure real,\n",
    "  PRIMARY KEY (Date, AssetID, Factor)\n",
    "  ) \"\"\")\n",
    "conn.commit()\n",
    "\n",
    "#cur.execute('DROP TABLE exposures')\n",
    "#conn.commit()"
   ]
  },
  {
   "cell_type": "markdown",
   "id": "3b8c4804-ddc8-40b0-93c6-d4eebe82fa2f",
   "metadata": {},
   "source": [
    "## Retrieve reports"
   ]
  },
  {
   "cell_type": "code",
   "execution_count": 4,
   "id": "5dea250f-b3d8-407f-8bbb-1a4e3bf8abac",
   "metadata": {},
   "outputs": [
    {
     "name": "stdout",
     "output_type": "stream",
     "text": [
      "Working on 2024-07-17...\n",
      "4997\n",
      "Completed.\n",
      "All done.\n"
     ]
    }
   ],
   "source": [
    "with ServiceClient(url, user_id, password, client_id) as bdt_service_client:\n",
    "    name = create_unique_export_set_name(portfolio=port_name, model=model)\n",
    "    portfolio_list = [(port_name, port_owner)]  # should be a list of (portfolio, owner) tuples\n",
    "    report_list = [('Summary Report', 'SYSTEM')]\n",
    "    bdt_service_client.createPorfolioExposureExportSet(name, model, portfolio_list, report_list)\n",
    "\n",
    "    date_rng = [d.strftime(\"%Y-%m-%d\") for d in pd.date_range(start='2024-07-17', end='2024-07-17').date]\n",
    "    for d in date_rng:\n",
    "        print(f\"Working on {d}...\")\n",
    "        job_id = bdt_service_client.sendExportJob(name, d, port_name + '-Exp')\n",
    "        output = bdt_service_client.getPortfolioExposureReports(job_id)\n",
    "    \n",
    "        reports = output['Reports']\n",
    "        status = output['Status']\n",
    "    \n",
    "        exposures = pd.DataFrame(reports[0]['Detail'])\n",
    "    \n",
    "        exposures.set_index(pd.Index([d for _ in range(len(exposures))]), inplace=True)\n",
    "        exposures.rename(columns={\"Asset ID\": \"AssetID\", \"Asset ID Type\": \"AssetIDType\", \"Factor\": \"Factor\", \"Exposure\": \"Exposure\"}, inplace=True)\n",
    "    \n",
    "        print(exposures.to_sql('exposures', conn, if_exists='append',index=True, index_label=\"Date\"))\n",
    "        print(\"Completed.\")\n",
    "print(\"All done.\")"
   ]
  },
  {
   "cell_type": "code",
   "execution_count": 76,
   "id": "4a53abe8-5c91-4e2d-bffe-1d9a44398c51",
   "metadata": {},
   "outputs": [
    {
     "name": "stdout",
     "output_type": "stream",
     "text": [
      "[('2024-03-02',)]\n"
     ]
    }
   ],
   "source": [
    "cur.execute(\"\"\"\n",
    "SELECT max(Date) FROM exposures WHERE date < '2024-07-12' LIMIT 10\n",
    "\"\"\")\n",
    "print(cur.fetchall())"
   ]
  },
  {
   "cell_type": "code",
   "execution_count": null,
   "id": "3ac56742-3e4e-4052-9fae-4b04ec536b5c",
   "metadata": {
    "scrolled": true
   },
   "outputs": [],
   "source": [
    "cur.execute(\"\"\"\n",
    "SELECT date, count(*) FROM exposures GROUP BY Date\n",
    "\"\"\")\n",
    "print(cur.fetchall())"
   ]
  },
  {
   "cell_type": "markdown",
   "id": "40b495e0-8399-4385-ab06-1aa47edea045",
   "metadata": {},
   "source": [
    "## Terminate connections"
   ]
  },
  {
   "cell_type": "code",
   "execution_count": 90,
   "id": "ba6651e6-abe0-4d3e-82ce-fa8c36b5272b",
   "metadata": {},
   "outputs": [],
   "source": [
    "cur.close()\n",
    "conn.close()"
   ]
  },
  {
   "cell_type": "code",
   "execution_count": null,
   "id": "d9410238-1ba7-4ac1-8909-800280da5db3",
   "metadata": {},
   "outputs": [],
   "source": []
  }
 ],
 "metadata": {
  "kernelspec": {
   "display_name": "Python 3 (ipykernel)",
   "language": "python",
   "name": "python3"
  },
  "language_info": {
   "codemirror_mode": {
    "name": "ipython",
    "version": 3
   },
   "file_extension": ".py",
   "mimetype": "text/x-python",
   "name": "python",
   "nbconvert_exporter": "python",
   "pygments_lexer": "ipython3",
   "version": "3.12.3"
  }
 },
 "nbformat": 4,
 "nbformat_minor": 5
}
